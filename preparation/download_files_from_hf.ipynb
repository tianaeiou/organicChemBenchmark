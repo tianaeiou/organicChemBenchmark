{
 "cells": [
  {
   "cell_type": "markdown",
   "metadata": {
    "collapsed": true
   },
   "source": [
    "## ref : https://zhuanlan.zhihu.com/p/475260268\n",
    "借助 huggingface_hub 下载 hugging face 文件"
   ]
  },
  {
   "cell_type": "code",
   "execution_count": null,
   "outputs": [],
   "source": [
    "from huggingface_hub import snapshot_download\n",
    "\n",
    "models_folder = \"/root/models\"\n",
    "\n",
    "repo_id = 'TheBloke/CodeLlama-7B-AWQ'\n",
    "repo_type = 'model'\n",
    "local_dir = f\"{models_folder}/CodeLlama-7b-AWQ\"\n",
    "\n",
    "snapshot_download(repo_id=repo_id, repo_type=repo_type, local_dir=local_dir, resume_download=True)"
   ],
   "metadata": {
    "collapsed": false
   }
  },
  {
   "cell_type": "code",
   "execution_count": null,
   "outputs": [],
   "source": [
    "\n",
    "from huggingface_hub import snapshot_download\n",
    "\n",
    "models_folder = \"/Users/person/codeScope/organicChemBenchmark/Models\"\n",
    "\n",
    "repo_id = 'AI4Chem/ChemLLM-7B-Chat'\n",
    "repo_type = 'model'\n",
    "local_dir = f\"{models_folder}/ChemLLM-7B-Chat\"\n",
    "\n",
    "snapshot_download(repo_id=repo_id, repo_type=repo_type, local_dir=local_dir, resume_download=True)"
   ],
   "metadata": {
    "collapsed": false
   }
  }
 ],
 "metadata": {
  "kernelspec": {
   "display_name": "Python 2",
   "language": "python",
   "name": "python2"
  },
  "language_info": {
   "codemirror_mode": {
    "name": "ipython",
    "version": 2
   },
   "file_extension": ".py",
   "mimetype": "text/x-python",
   "name": "python",
   "nbconvert_exporter": "python",
   "pygments_lexer": "ipython2",
   "version": "2.7.6"
  }
 },
 "nbformat": 4,
 "nbformat_minor": 0
}
